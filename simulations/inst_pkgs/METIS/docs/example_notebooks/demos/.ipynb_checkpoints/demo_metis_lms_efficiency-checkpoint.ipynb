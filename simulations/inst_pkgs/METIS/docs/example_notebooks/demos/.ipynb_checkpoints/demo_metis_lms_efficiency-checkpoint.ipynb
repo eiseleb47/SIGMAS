{
 "cells": [
  {
   "cell_type": "markdown",
   "metadata": {},
   "source": [
    "This notebook demonstrates the effect `MetisLMSEfficiency`. Here we use it standalone to reproduce Figure 6 from E-REP-ATC-MET-1016 (v1.0) to show that the effect computes the efficiency correctly."
   ]
  },
  {
   "cell_type": "code",
   "execution_count": 1,
   "metadata": {},
   "outputs": [],
   "source": [
    "from scopesim.effects.metis_lms_trace_list import MetisLMSEfficiency"
   ]
  },
  {
   "cell_type": "code",
   "execution_count": 2,
   "metadata": {},
   "outputs": [],
   "source": [
    "import numpy as np\n",
    "from astropy import units as u\n",
    "from matplotlib import pyplot as plt\n",
    "%matplotlib inline"
   ]
  },
  {
   "cell_type": "code",
   "execution_count": 3,
   "metadata": {},
   "outputs": [
    {
     "name": "stdout",
     "output_type": "stream",
     "text": [
      "Python:\n",
      "3.11.4 | packaged by Anaconda, Inc. | (main, Jul  5 2023, 13:38:37) [MSC v.1916 64 bit (AMD64)]\n",
      "\n",
      "Installed Python packages:\n",
      "           anisocado: 0.3.0\n",
      "         astar-utils: 0.3.1a1\n",
      "             astropy: 5.3.4\n",
      "      beautifulsoup4: 4.12.2\n",
      "            docutils: 0.19\n",
      "               httpx: 0.23.3\n",
      "                lxml: 4.9.4\n",
      "          matplotlib: 3.8.4\n",
      "      more-itertools: 10.5.0\n",
      "               numpy: 1.26.3\n",
      "               pooch: 1.8.2\n",
      "              pyyaml: 6.0.1\n",
      "               scipy: 1.11.4\n",
      "            scopesim: 0.9.0a0\n",
      "       scopesim_data: could not be loaded.\n",
      "  scopesim_templates: 0.5.4a0\n",
      "         skycalc_ipy: 0.4.0\n",
      "             synphot: 1.3.post0\n",
      "                tqdm: 4.66.1\n",
      "\n",
      "Installed IRDB packages:\n",
      "\n",
      "Operating System info:\n",
      "   System: Windows\n",
      "  Release: 10\n",
      "  Version: 10.0.22631\n",
      "  Machine: AMD64\n"
     ]
    }
   ],
   "source": [
    "import scopesim as sim\n",
    "sim.bug_report()\n",
    "\n",
    "# Edit this path if you have a custom install directory, otherwise comment it out.\n",
    "sim.rc.__config__[\"!SIM.file.local_packages_path\"] = \"../../../../\""
   ]
  },
  {
   "cell_type": "markdown",
   "metadata": {},
   "source": [
    "If you haven't got the instrument package yet, uncomment the following cell. The METIS package provides the spectral trace definition file. The ELT and Armazones packages are not needed for the purposes of this notebook."
   ]
  },
  {
   "cell_type": "code",
   "execution_count": 4,
   "metadata": {},
   "outputs": [],
   "source": [
    "# sim.download_packages([\"METIS\"])"
   ]
  },
  {
   "cell_type": "markdown",
   "metadata": {},
   "source": [
    "When simulating an LMS observation, the user selects a target wavelength by setting `cmd['!OBS.wavelen']`, e.g. 4.2 (microns). In normal use, the efficiency is instantiated as an effect within the `OpticalTrain`. Here, we instantiate the effect directly as"
   ]
  },
  {
   "cell_type": "code",
   "execution_count": 5,
   "metadata": {},
   "outputs": [
    {
     "name": "stdout",
     "output_type": "stream",
     "text": [
      "\u001b[31m\u001b[1mastar.scopesim.utils - ERROR: File cannot be found: METIS\\TRACE_LMS.fits\u001b[0m\n",
      "\u001b[31m\u001b[1mastar.scopesim.utils - ERROR: File cannot be found: METIS\\TRACE_LMS.fits\u001b[0m\n",
      "\u001b[31m\u001b[1mastar.scopesim.utils - ERROR: File cannot be found: METIS\\TRACE_LMS.fits\u001b[0m\n"
     ]
    },
    {
     "ename": "ValueError",
     "evalue": "Empty filename: None",
     "output_type": "error",
     "traceback": [
      "\u001b[1;31m---------------------------------------------------------------------------\u001b[0m",
      "\u001b[1;31mValueError\u001b[0m                                Traceback (most recent call last)",
      "Cell \u001b[1;32mIn[5], line 1\u001b[0m\n\u001b[1;32m----> 1\u001b[0m eff \u001b[38;5;241m=\u001b[39m MetisLMSEfficiency(wavelen\u001b[38;5;241m=\u001b[39m\u001b[38;5;241m4.2\u001b[39m, filename\u001b[38;5;241m=\u001b[39m\u001b[38;5;124m\"\u001b[39m\u001b[38;5;124mMETIS/TRACE_LMS.fits\u001b[39m\u001b[38;5;124m\"\u001b[39m)\n",
      "File \u001b[1;32m~\\anaconda3\\Lib\\site-packages\\scopesim\\effects\\metis_lms_trace_list.py:572\u001b[0m, in \u001b[0;36mMetisLMSEfficiency.__init__\u001b[1;34m(self, **kwargs)\u001b[0m\n\u001b[0;32m    569\u001b[0m \u001b[38;5;28;01massert\u001b[39;00m \u001b[38;5;124m\"\u001b[39m\u001b[38;5;124mgrat_spacing\u001b[39m\u001b[38;5;124m\"\u001b[39m \u001b[38;5;129;01min\u001b[39;00m \u001b[38;5;28mself\u001b[39m\u001b[38;5;241m.\u001b[39mmeta, \u001b[38;5;124m\"\u001b[39m\u001b[38;5;124mgrat_spacing is missing from self.meta 2\u001b[39m\u001b[38;5;124m\"\u001b[39m\n\u001b[0;32m    571\u001b[0m filename \u001b[38;5;241m=\u001b[39m find_file(\u001b[38;5;28mself\u001b[39m\u001b[38;5;241m.\u001b[39mmeta[\u001b[38;5;124m\"\u001b[39m\u001b[38;5;124mfilename\u001b[39m\u001b[38;5;124m\"\u001b[39m])\n\u001b[1;32m--> 572\u001b[0m wcal \u001b[38;5;241m=\u001b[39m fits\u001b[38;5;241m.\u001b[39mgetdata(filename, extname\u001b[38;5;241m=\u001b[39m\u001b[38;5;124m\"\u001b[39m\u001b[38;5;124mWCAL\u001b[39m\u001b[38;5;124m\"\u001b[39m)\n\u001b[0;32m    573\u001b[0m \u001b[38;5;28;01mif\u001b[39;00m \u001b[38;5;124m\"\u001b[39m\u001b[38;5;124mwavelen\u001b[39m\u001b[38;5;124m\"\u001b[39m \u001b[38;5;129;01min\u001b[39;00m kwargs:\n\u001b[0;32m    574\u001b[0m     wavelen \u001b[38;5;241m=\u001b[39m from_currsys(kwargs[\u001b[38;5;124m\"\u001b[39m\u001b[38;5;124mwavelen\u001b[39m\u001b[38;5;124m\"\u001b[39m], kwargs\u001b[38;5;241m.\u001b[39mget(\u001b[38;5;124m\"\u001b[39m\u001b[38;5;124mcmds\u001b[39m\u001b[38;5;124m\"\u001b[39m))\n",
      "File \u001b[1;32m~\\anaconda3\\Lib\\site-packages\\astropy\\io\\fits\\convenience.py:220\u001b[0m, in \u001b[0;36mgetdata\u001b[1;34m(filename, header, lower, upper, view, *args, **kwargs)\u001b[0m\n\u001b[0;32m    215\u001b[0m extver \u001b[38;5;241m=\u001b[39m kwargs\u001b[38;5;241m.\u001b[39mget(\u001b[38;5;124m\"\u001b[39m\u001b[38;5;124mextver\u001b[39m\u001b[38;5;124m\"\u001b[39m)\n\u001b[0;32m    216\u001b[0m ext_given \u001b[38;5;241m=\u001b[39m \u001b[38;5;129;01mnot\u001b[39;00m (\n\u001b[0;32m    217\u001b[0m     \u001b[38;5;28mlen\u001b[39m(args) \u001b[38;5;241m==\u001b[39m \u001b[38;5;241m0\u001b[39m \u001b[38;5;129;01mand\u001b[39;00m ext \u001b[38;5;129;01mis\u001b[39;00m \u001b[38;5;28;01mNone\u001b[39;00m \u001b[38;5;129;01mand\u001b[39;00m extname \u001b[38;5;129;01mis\u001b[39;00m \u001b[38;5;28;01mNone\u001b[39;00m \u001b[38;5;129;01mand\u001b[39;00m extver \u001b[38;5;129;01mis\u001b[39;00m \u001b[38;5;28;01mNone\u001b[39;00m\n\u001b[0;32m    218\u001b[0m )\n\u001b[1;32m--> 220\u001b[0m hdulist, extidx \u001b[38;5;241m=\u001b[39m _getext(filename, mode, \u001b[38;5;241m*\u001b[39margs, \u001b[38;5;241m*\u001b[39m\u001b[38;5;241m*\u001b[39mkwargs)\n\u001b[0;32m    221\u001b[0m \u001b[38;5;28;01mtry\u001b[39;00m:\n\u001b[0;32m    222\u001b[0m     hdu \u001b[38;5;241m=\u001b[39m hdulist[extidx]\n",
      "File \u001b[1;32m~\\anaconda3\\Lib\\site-packages\\astropy\\io\\fits\\convenience.py:1113\u001b[0m, in \u001b[0;36m_getext\u001b[1;34m(filename, mode, ext, extname, extver, *args, **kwargs)\u001b[0m\n\u001b[0;32m   1110\u001b[0m \u001b[38;5;28;01melif\u001b[39;00m extver \u001b[38;5;129;01mand\u001b[39;00m extname \u001b[38;5;129;01mis\u001b[39;00m \u001b[38;5;28;01mNone\u001b[39;00m:\n\u001b[0;32m   1111\u001b[0m     \u001b[38;5;28;01mraise\u001b[39;00m \u001b[38;5;167;01mTypeError\u001b[39;00m(\u001b[38;5;124m\"\u001b[39m\u001b[38;5;124mextver alone cannot specify an extension.\u001b[39m\u001b[38;5;124m\"\u001b[39m)\n\u001b[1;32m-> 1113\u001b[0m hdulist \u001b[38;5;241m=\u001b[39m fitsopen(filename, mode\u001b[38;5;241m=\u001b[39mmode, \u001b[38;5;241m*\u001b[39m\u001b[38;5;241m*\u001b[39mkwargs)\n\u001b[0;32m   1115\u001b[0m \u001b[38;5;28;01mreturn\u001b[39;00m hdulist, ext\n",
      "File \u001b[1;32m~\\anaconda3\\Lib\\site-packages\\astropy\\io\\fits\\hdu\\hdulist.py:211\u001b[0m, in \u001b[0;36mfitsopen\u001b[1;34m(name, mode, memmap, save_backup, cache, lazy_load_hdus, ignore_missing_simple, use_fsspec, fsspec_kwargs, **kwargs)\u001b[0m\n\u001b[0;32m    208\u001b[0m     kwargs[\u001b[38;5;124m\"\u001b[39m\u001b[38;5;124muint\u001b[39m\u001b[38;5;124m\"\u001b[39m] \u001b[38;5;241m=\u001b[39m conf\u001b[38;5;241m.\u001b[39menable_uint\n\u001b[0;32m    210\u001b[0m \u001b[38;5;28;01mif\u001b[39;00m \u001b[38;5;129;01mnot\u001b[39;00m name:\n\u001b[1;32m--> 211\u001b[0m     \u001b[38;5;28;01mraise\u001b[39;00m \u001b[38;5;167;01mValueError\u001b[39;00m(\u001b[38;5;124mf\u001b[39m\u001b[38;5;124m\"\u001b[39m\u001b[38;5;124mEmpty filename: \u001b[39m\u001b[38;5;132;01m{\u001b[39;00mname\u001b[38;5;132;01m!r}\u001b[39;00m\u001b[38;5;124m\"\u001b[39m)\n\u001b[0;32m    213\u001b[0m \u001b[38;5;28;01mreturn\u001b[39;00m HDUList\u001b[38;5;241m.\u001b[39mfromfile(\n\u001b[0;32m    214\u001b[0m     name,\n\u001b[0;32m    215\u001b[0m     mode,\n\u001b[1;32m   (...)\u001b[0m\n\u001b[0;32m    223\u001b[0m     \u001b[38;5;241m*\u001b[39m\u001b[38;5;241m*\u001b[39mkwargs,\n\u001b[0;32m    224\u001b[0m )\n",
      "\u001b[1;31mValueError\u001b[0m: Empty filename: None"
     ]
    }
   ],
   "source": [
    "eff = MetisLMSEfficiency(wavelen=4.2, filename=\"METIS/TRACE_LMS.fits\")"
   ]
  },
  {
   "cell_type": "markdown",
   "metadata": {},
   "source": [
    "The effect automatically selects the echelle order for that wavelength and computes the grating efficiency."
   ]
  },
  {
   "cell_type": "code",
   "execution_count": null,
   "metadata": {},
   "outputs": [],
   "source": [
    "print(eff.meta['order'])"
   ]
  },
  {
   "cell_type": "code",
   "execution_count": null,
   "metadata": {},
   "outputs": [],
   "source": [
    "eff.surface.transmission.plot()"
   ]
  },
  {
   "cell_type": "markdown",
   "metadata": {},
   "source": [
    "Alternatively, the order can be specified directly. This is used in the following to plot the efficiencies for all orders. The resulting figure can be compared to the original figure from E-REP-ATC-MET-1016."
   ]
  },
  {
   "cell_type": "code",
   "execution_count": null,
   "metadata": {},
   "outputs": [],
   "source": [
    "plt.figure(figsize=(8, 6))\n",
    "plt.ylim(0, 1)\n",
    "plt.xlim(3.0, 5.05)\n",
    "plt.xlabel(r\"Wavelength [$\\mu$m]\")\n",
    "plt.ylabel(\"Efficiency\")\n",
    "plt.xticks(np.arange(3.0, 5.05, 0.2))\n",
    "for order in np.arange(22, 37):\n",
    "    eff = MetisLMSEfficiency(order=order, filename=\"METIS/TRACE_LMS.fits\")\n",
    "    lam = eff.surface.transmission.waveset\n",
    "    effic = eff.surface.transmission(lam)\n",
    "    lammax = lam[np.argmax(effic)]\n",
    "    p = plt.plot(lam.to(u.um), eff.surface.transmission(lam))\n",
    "    plt.text(lammax.to(u.um).value, 0.76, str(order), ha='center', color=p[0].get_color())"
   ]
  }
 ],
 "metadata": {
  "kernelspec": {
   "display_name": "Python 3 (ipykernel)",
   "language": "python",
   "name": "python3"
  },
  "language_info": {
   "codemirror_mode": {
    "name": "ipython",
    "version": 3
   },
   "file_extension": ".py",
   "mimetype": "text/x-python",
   "name": "python",
   "nbconvert_exporter": "python",
   "pygments_lexer": "ipython3",
   "version": "3.11.4"
  }
 },
 "nbformat": 4,
 "nbformat_minor": 4
}

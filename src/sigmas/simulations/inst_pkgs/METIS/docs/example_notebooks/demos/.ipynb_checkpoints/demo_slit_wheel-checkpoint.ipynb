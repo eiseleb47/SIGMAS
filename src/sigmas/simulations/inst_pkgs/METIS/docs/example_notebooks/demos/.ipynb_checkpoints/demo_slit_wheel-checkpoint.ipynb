{
 "cells": [
  {
   "cell_type": "markdown",
   "metadata": {},
   "source": [
    "This notebook demonstrates how to use the various slits in METIS. They are defined in a `SlitWheel` effect, which works in the same way as `FilterWheel`. The notebook uses imaging mode to show the slits directly. "
   ]
  },
  {
   "cell_type": "code",
   "execution_count": 1,
   "metadata": {},
   "outputs": [
    {
     "name": "stdout",
     "output_type": "stream",
     "text": [
      "Python:\n",
      "3.11.4 | packaged by Anaconda, Inc. | (main, Jul  5 2023, 13:38:37) [MSC v.1916 64 bit (AMD64)]\n",
      "\n",
      "Installed Python packages:\n",
      "           anisocado: 0.3.0\n",
      "         astar-utils: 0.3.1a1\n",
      "             astropy: 5.3.4\n",
      "      beautifulsoup4: 4.12.2\n",
      "            docutils: 0.19\n",
      "               httpx: 0.23.3\n",
      "                lxml: 4.9.4\n",
      "          matplotlib: 3.8.4\n",
      "      more-itertools: 10.5.0\n",
      "               numpy: 1.26.3\n",
      "               pooch: 1.8.2\n",
      "              pyyaml: 6.0.1\n",
      "               scipy: 1.11.4\n",
      "            scopesim: 0.9.0a0\n",
      "       scopesim_data: could not be loaded.\n",
      "  scopesim_templates: 0.5.4a0\n",
      "         skycalc_ipy: 0.4.0\n",
      "             synphot: 1.3.post0\n",
      "                tqdm: 4.66.1\n",
      "\n",
      "Installed IRDB packages:\n",
      "\n",
      "Operating System info:\n",
      "   System: Windows\n",
      "  Release: 10\n",
      "  Version: 10.0.22631\n",
      "  Machine: AMD64\n"
     ]
    }
   ],
   "source": [
    "import scopesim as sim\n",
    "sim.bug_report()\n",
    "\n",
    "# Edit this path if you have a custom install directory, otherwise comment it out.\n",
    "sim.rc.__config__[\"!SIM.file.local_packages_path\"] = \"../../../../\""
   ]
  },
  {
   "cell_type": "code",
   "execution_count": 2,
   "metadata": {},
   "outputs": [],
   "source": [
    "from matplotlib import pyplot as plt\n",
    "%matplotlib inline"
   ]
  },
  {
   "cell_type": "markdown",
   "metadata": {},
   "source": [
    "If you haven't got the instrument packages yet, uncomment the following cell."
   ]
  },
  {
   "cell_type": "code",
   "execution_count": 3,
   "metadata": {},
   "outputs": [],
   "source": [
    "# sim.download_packages([\"METIS\", \"ELT\", \"Armazones\"])"
   ]
  },
  {
   "cell_type": "code",
   "execution_count": 4,
   "metadata": {},
   "outputs": [],
   "source": [
    "cmd = sim.UserCommands(use_instrument=\"METIS\", set_modes=['img_lm'])"
   ]
  },
  {
   "cell_type": "markdown",
   "metadata": {},
   "source": [
    "In imaging mode, `\"!OBS.slit\"` is `false` by default, i.e. there is no slit in the path. However, slits can be used in imaging as well by setting `!OBS.slit` to one of the slits available in the METIS package."
   ]
  },
  {
   "cell_type": "code",
   "execution_count": 5,
   "metadata": {},
   "outputs": [],
   "source": [
    "cmd['!OBS.slit'] = \"C-38_1\""
   ]
  },
  {
   "cell_type": "code",
   "execution_count": 6,
   "metadata": {},
   "outputs": [],
   "source": [
    "src = sim.source.source_templates.empty_sky()"
   ]
  },
  {
   "cell_type": "code",
   "execution_count": 7,
   "metadata": {},
   "outputs": [],
   "source": [
    "metis = sim.OpticalTrain(cmd)"
   ]
  },
  {
   "cell_type": "markdown",
   "metadata": {},
   "source": [
    "The following slits are now available and can be selected with `metis['slit_wheel'].change_slit()` as demonstrated below."
   ]
  },
  {
   "cell_type": "code",
   "execution_count": 8,
   "metadata": {},
   "outputs": [
    {
     "data": {
      "text/html": [
       "<div><i>Table length=5</i>\n",
       "<table id=\"table1787720025616\" class=\"table-striped table-bordered table-condensed\">\n",
       "<thead><tr><th>name</th><th>x_centre</th><th>y_centre</th><th>length</th><th>width</th></tr></thead>\n",
       "<thead><tr><th></th><th>mas</th><th>mas</th><th>mas</th><th>mas</th></tr></thead>\n",
       "<thead><tr><th>str7</th><th>float64</th><th>float64</th><th>float64</th><th>float64</th></tr></thead>\n",
       "<tr><td>A-19_0</td><td>0.0</td><td>0.0</td><td>8000.0</td><td>19.0</td></tr>\n",
       "<tr><td>B-28_6</td><td>0.0</td><td>0.0</td><td>8000.0</td><td>28.6</td></tr>\n",
       "<tr><td>C-38_1</td><td>0.0</td><td>0.0</td><td>8000.0</td><td>38.1</td></tr>\n",
       "<tr><td>D-57_1</td><td>0.0</td><td>0.0</td><td>8000.0</td><td>57.1</td></tr>\n",
       "<tr><td>E-114_2</td><td>0.0</td><td>0.0</td><td>8000.0</td><td>114.2</td></tr>\n",
       "</table></div>"
      ],
      "text/plain": [
       "<Table length=5>\n",
       "  name  x_centre y_centre  length  width \n",
       "          mas      mas      mas     mas  \n",
       "  str7  float64  float64  float64 float64\n",
       "------- -------- -------- ------- -------\n",
       " A-19_0      0.0      0.0  8000.0    19.0\n",
       " B-28_6      0.0      0.0  8000.0    28.6\n",
       " C-38_1      0.0      0.0  8000.0    38.1\n",
       " D-57_1      0.0      0.0  8000.0    57.1\n",
       "E-114_2      0.0      0.0  8000.0   114.2"
      ]
     },
     "execution_count": 8,
     "metadata": {},
     "output_type": "execute_result"
    }
   ],
   "source": [
    "metis['slit_wheel'].get_table()"
   ]
  },
  {
   "cell_type": "code",
   "execution_count": 9,
   "metadata": {},
   "outputs": [
    {
     "name": "stderr",
     "output_type": "stream",
     "text": [
      " FOVs:   0%|                                                                                     | 0/1 [00:00<?, ?it/s]\n",
      " FOV effects:   0%|                                                                              | 0/1 [00:00<?, ?it/s]\u001b[A"
     ]
    },
    {
     "name": "stdout",
     "output_type": "stream",
     "text": [
      "\u001b[35mastar.scopesim.effects.psfs - WARNING: PSF center off\u001b[0m\n"
     ]
    },
    {
     "name": "stderr",
     "output_type": "stream",
     "text": [
      "\n",
      " FOVs: 100%|█████████████████████████████████████████████████████████████████████████████| 1/1 [00:00<00:00,  7.98it/s]\u001b[A\n",
      " Image Plane effects: 0it [00:00, ?it/s]\n",
      " FOVs:   0%|                                                                                     | 0/1 [00:00<?, ?it/s]\n",
      " FOV effects:   0%|                                                                              | 0/1 [00:00<?, ?it/s]\u001b[A\n",
      " FOVs: 100%|█████████████████████████████████████████████████████████████████████████████| 1/1 [00:00<00:00,  8.40it/s]\u001b[A\n",
      " Image Plane effects: 0it [00:00, ?it/s]\n",
      " FOVs:   0%|                                                                                     | 0/1 [00:00<?, ?it/s]\n",
      " FOV effects:   0%|                                                                              | 0/1 [00:00<?, ?it/s]\u001b[A\n",
      " FOVs: 100%|█████████████████████████████████████████████████████████████████████████████| 1/1 [00:00<00:00, 18.20it/s]\u001b[A\n",
      " Image Plane effects: 0it [00:00, ?it/s]\n",
      " FOVs:   0%|                                                                                     | 0/1 [00:00<?, ?it/s]\n",
      " FOV effects:   0%|                                                                              | 0/1 [00:00<?, ?it/s]\u001b[A\n",
      " FOVs: 100%|█████████████████████████████████████████████████████████████████████████████| 1/1 [00:00<00:00, 19.40it/s]\u001b[A\n",
      " Image Plane effects: 0it [00:00, ?it/s]\n",
      " FOVs:   0%|                                                                                     | 0/1 [00:00<?, ?it/s]\n",
      " FOV effects:   0%|                                                                              | 0/1 [00:00<?, ?it/s]\u001b[A\n",
      " FOVs: 100%|█████████████████████████████████████████████████████████████████████████████| 1/1 [00:00<00:00, 15.75it/s]\u001b[A\n",
      " Image Plane effects: 0it [00:00, ?it/s]\n"
     ]
    }
   ],
   "source": [
    "implanes = dict()\n",
    "for slit in metis['slit_wheel'].slits:\n",
    "    metis['slit_wheel'].change_slit(slit)\n",
    "    metis.observe(src, update=True)\n",
    "    implanes[slit] = metis.image_planes[0].data"
   ]
  },
  {
   "cell_type": "code",
   "execution_count": 10,
   "metadata": {},
   "outputs": [
    {
     "data": {
      "image/png": "[encoded data removed]",
      "text/plain": [
       "<Figure size 1500x500 with 5 Axes>"
      ]
     },
     "metadata": {},
     "output_type": "display_data"
    }
   ],
   "source": [
    "plt.figure(figsize=(15, 5))\n",
    "for i, slit in enumerate(metis['slit_wheel'].slits):\n",
    "    plt.subplot(2, 3, i+1)\n",
    "    plt.imshow(implanes[slit][600:1450,], origin='lower')\n",
    "    plt.title(\"Slit \" + slit)"
   ]
  },
  {
   "cell_type": "markdown",
   "metadata": {},
   "source": [
    "## Adding a slit to the slit wheel\n",
    "\n",
    "The slit wheel holds a number of default slits (defined by the configuration for the instrument used). A custom slit can be added using the method `add_slit`. A \"slit\" is an object of class `ApertureMask` and the various methods for instantiating such an object can be used."
   ]
  },
  {
   "cell_type": "code",
   "execution_count": 11,
   "metadata": {},
   "outputs": [
    {
     "data": {
      "text/html": [
       "<div><i>Table length=6</i>\n",
       "<table id=\"table1787723934352\" class=\"table-striped table-bordered table-condensed\">\n",
       "<thead><tr><th>name</th><th>x_centre</th><th>y_centre</th><th>length</th><th>width</th></tr></thead>\n",
       "<thead><tr><th></th><th>mas</th><th>mas</th><th>mas</th><th>mas</th></tr></thead>\n",
       "<thead><tr><th>str7</th><th>float64</th><th>float64</th><th>float64</th><th>float64</th></tr></thead>\n",
       "<tr><td>A-19_0</td><td>0.0</td><td>0.0</td><td>8000.0</td><td>19.0</td></tr>\n",
       "<tr><td>B-28_6</td><td>0.0</td><td>0.0</td><td>8000.0</td><td>28.6</td></tr>\n",
       "<tr><td>C-38_1</td><td>0.0</td><td>0.0</td><td>8000.0</td><td>38.1</td></tr>\n",
       "<tr><td>D-57_1</td><td>0.0</td><td>0.0</td><td>8000.0</td><td>57.1</td></tr>\n",
       "<tr><td>E-114_2</td><td>0.0</td><td>0.0</td><td>8000.0</td><td>114.2</td></tr>\n",
       "<tr><td>Square</td><td>0.0</td><td>0.0</td><td>1999.9999999999998</td><td>1999.9999999999998</td></tr>\n",
       "</table></div>"
      ],
      "text/plain": [
       "<Table length=6>\n",
       "  name  x_centre y_centre       length             width       \n",
       "          mas      mas           mas                mas        \n",
       "  str7  float64  float64       float64            float64      \n",
       "------- -------- -------- ------------------ ------------------\n",
       " A-19_0      0.0      0.0             8000.0               19.0\n",
       " B-28_6      0.0      0.0             8000.0               28.6\n",
       " C-38_1      0.0      0.0             8000.0               38.1\n",
       " D-57_1      0.0      0.0             8000.0               57.1\n",
       "E-114_2      0.0      0.0             8000.0              114.2\n",
       " Square      0.0      0.0 1999.9999999999998 1999.9999999999998"
      ]
     },
     "execution_count": 11,
     "metadata": {},
     "output_type": "execute_result"
    }
   ],
   "source": [
    "newslit = sim.effects.ApertureMask(name=\"Square\", array_dict={\"x\": [-1, 1, 1, -1], \"y\": [-1, -1, 1, 1]}, \n",
    "                                   x_unit=\"arcsec\", y_unit=\"arcsec\")\n",
    "metis['slit_wheel'].add_slit(newslit)\n",
    "metis['slit_wheel'].get_table()"
   ]
  },
  {
   "cell_type": "code",
   "execution_count": 12,
   "metadata": {},
   "outputs": [
    {
     "name": "stderr",
     "output_type": "stream",
     "text": [
      " FOVs:   0%|                                                                                     | 0/1 [00:00<?, ?it/s]\n",
      " FOV effects:   0%|                                                                              | 0/1 [00:00<?, ?it/s]\u001b[A\n",
      " FOVs: 100%|█████████████████████████████████████████████████████████████████████████████| 1/1 [00:00<00:00,  9.38it/s]\u001b[A\n",
      " Image Plane effects: 0it [00:00, ?it/s]\n"
     ]
    },
    {
     "data": {
      "image/png": "[encoded data removed]",
      "text/plain": [
       "<Figure size 640x480 with 1 Axes>"
      ]
     },
     "metadata": {},
     "output_type": "display_data"
    }
   ],
   "source": [
    "metis['slit_wheel'].change_slit(\"Square\")\n",
    "metis.observe(src, update=True)\n",
    "implane = metis.image_planes[0].data\n",
    "plt.imshow(implane[600:1450,], origin='lower')\n",
    "plt.title(\"Slit \" + metis['slit_wheel'].current_slit.meta['name']);"
   ]
  }
 ],
 "metadata": {
  "kernelspec": {
   "display_name": "Python 3 (ipykernel)",
   "language": "python",
   "name": "python3"
  },
  "language_info": {
   "codemirror_mode": {
    "name": "ipython",
    "version": 3
   },
   "file_extension": ".py",
   "mimetype": "text/x-python",
   "name": "python",
   "nbconvert_exporter": "python",
   "pygments_lexer": "ipython3",
   "version": "3.11.4"
  }
 },
 "nbformat": 4,
 "nbformat_minor": 4
}
